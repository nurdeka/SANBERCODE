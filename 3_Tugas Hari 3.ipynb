{
 "cells": [
  {
   "cell_type": "markdown",
   "metadata": {
    "colab_type": "text",
    "id": "a9HYUdCUsrKl"
   },
   "source": [
    "<h2>Soal 1: Comparison Operator</h2>\n",
    "\n",
    "- Berikan contoh comparison dari tipe data string\n",
    "- Berikan contoh comparison dari tipe data boolean\n",
    "- Berikan contoh comparison dari tipe data integer"
   ]
  },
  {
   "cell_type": "code",
   "execution_count": 1,
   "metadata": {
    "colab": {},
    "colab_type": "code",
    "id": "lXMCHZ71srKp"
   },
   "outputs": [
    {
     "name": "stdout",
     "output_type": "stream",
     "text": [
      "_Comparison tipe data string_\n",
      "negara == Indonesia : True\n",
      "negara != Indonesia : False\n",
      "               \n",
      "_Comparison tipe data Boolean_\n",
      "9 > 10 : False\n",
      "9 = 10 : False\n",
      "9 < 10 : True\n",
      "               \n",
      "_Comparison tipe data Integer_\n",
      "a = 10\n",
      "b = 20\n",
      "               \n",
      "a = b : False\n",
      "a != b : True\n",
      "a > b : False\n",
      "a < b : True\n",
      "a >= b : False\n",
      "a <= b : True\n"
     ]
    }
   ],
   "source": [
    "#Comparison tipe data string\n",
    "\n",
    "negara = \"Indonesia\"\n",
    "print(\"_Comparison tipe data string_\")\n",
    "print(\"negara == Indonesia :\" , negara == \"Indonesia\")\n",
    "print(\"negara != Indonesia :\" ,negara != \"Indonesia\")\n",
    "print(\"               \")\n",
    "\n",
    "#Comparison tipe data Boolean\n",
    "print(\"_Comparison tipe data Boolean_\")\n",
    "print(\"9 > 10 :\", 9>10)\n",
    "print(\"9 = 10 :\", 9==10)\n",
    "print(\"9 < 10 :\", 9<10)\n",
    "print(\"               \")\n",
    "\n",
    "#Comparison tipe data Integer\n",
    "print(\"_Comparison tipe data Integer_\")\n",
    "a = 10\n",
    "b = 20\n",
    "print(\"a = 10\")\n",
    "print(\"b = 20\")\n",
    "print(\"               \")\n",
    "print(\"a = b :\", a == b)\n",
    "print(\"a != b :\",a != b)\n",
    "print(\"a > b :\",a > b)\n",
    "print(\"a < b :\",a < b)\n",
    "print(\"a >= b :\",a >= b)\n",
    "print(\"a <= b :\",a <= b)"
   ]
  },
  {
   "cell_type": "markdown",
   "metadata": {
    "colab_type": "text",
    "id": "IbNoZvVssrK5"
   },
   "source": [
    "<h2>Soal 2: Boolean Comparison</h2>\n",
    "\n",
    "- Berikan contoh gabungan multiple comparison menggunkan Boolean Comparisin 'and'\n",
    "- Berikan contoh gabungan multiple comparison menggunkan Boolean Comparisin 'or'\n",
    "- Berikan contoh gabungan multiple comparison menggunkan Boolean Comparisin 'not'"
   ]
  },
  {
   "cell_type": "code",
   "execution_count": 2,
   "metadata": {
    "colab": {},
    "colab_type": "code",
    "id": "7eU1vPLCsrK7"
   },
   "outputs": [
    {
     "name": "stdout",
     "output_type": "stream",
     "text": [
      "False\n",
      "True\n",
      "True\n"
     ]
    }
   ],
   "source": [
    "print((12 > 11) and (5 < 4))  \n",
    "print((8 == 8) or (6 != 6)) \n",
    "print(not(3 <= 1))         "
   ]
  },
  {
   "cell_type": "markdown",
   "metadata": {
    "colab_type": "text",
    "id": "Yp_g_sPMsrLH"
   },
   "source": [
    "<h2>Soal 3: If-Else Statement</h2>\n",
    "\n",
    "Lengkapi kode untuk menghasilkan suatu output yang di harapkan\n",
    "\n",
    "- Bualah sebuah if-else statement yang dimana akan mem-print 'Besar' jika ruangan adalah 'Kamar' dan ukuran lebih dari 12, kemudian mem-print 'Sedang' jika ruangan adalah 'Kamar' dan ukuran lebih dari 6 dan memprint 'Kecil' jika ruangan adalah 'Kamar' dan ukuran ruangan lebih kecil dan sama dengan 6."
   ]
  },
  {
   "cell_type": "code",
   "execution_count": 3,
   "metadata": {
    "colab": {},
    "colab_type": "code",
    "id": "euRiRNupsrLK"
   },
   "outputs": [
    {
     "name": "stdout",
     "output_type": "stream",
     "text": [
      "Input size : 1\n",
      "Kecil\n"
     ]
    }
   ],
   "source": [
    "ruangan = \"Kamar\"\n",
    "size = int(input(\"Input size : \" ))\n",
    "\n",
    "if ruangan == \"Kamar\" and size > 12:\n",
    "    print('Besar')\n",
    "elif ruangan == \"Kamar\" and size > 6:\n",
    "    print('Sedang')\n",
    "else :\n",
    "    print('Kecil')"
   ]
  },
  {
   "cell_type": "markdown",
   "metadata": {
    "colab_type": "text",
    "id": "IcoJXJT1srLW"
   },
   "source": [
    "<h2>Soal 4: Comparison Operator dengan fungsi</h2>\n",
    "\n",
    "Buatlah sebuah fungsi yang menerima satu argument bertipe data numeric dan menghasilkan sebuah return sebagai berikut :\n",
    "- menghasilkan return 'Aneh' jika nilai dari argument tersebut adalah bilangan ganjil\n",
    "- menghasilkan return 'Tidak Aneh' jika nilai dari argument tersebut adalah bilangan genap dan diantara nilai 2 sampai 5 (2 dan 5 termasuk)\n",
    "- menghasilkan return 'Aneh' jika nilai dari argument tersebut adalah bilangan genap dan diantara nilai 6 sampai 20 (6 dan 20 termasuk)\n",
    "- menghasilkan return 'Tidak Aneh' jika nilai dari argument tersebut adalah bilangan genap dan lebih besari dari 20"
   ]
  },
  {
   "cell_type": "code",
   "execution_count": 4,
   "metadata": {
    "colab": {},
    "colab_type": "code",
    "id": "g8F_qfEKsrLZ"
   },
   "outputs": [
    {
     "name": "stdout",
     "output_type": "stream",
     "text": [
      "Input number : 2\n"
     ]
    },
    {
     "data": {
      "text/plain": [
       "'Tidak Aneh'"
      ]
     },
     "execution_count": 4,
     "metadata": {},
     "output_type": "execute_result"
    }
   ],
   "source": [
    "def num(k):\n",
    "    if (k % 2) != 0 :\n",
    "        result = \"Aneh\"\n",
    "    elif (k % 2) == 0 and k >= 2 and k <= 5 :\n",
    "        result = \"Tidak Aneh\"\n",
    "    elif (k % 2) == 0 and k >= 6 and k <= 20 :\n",
    "        result = \"Aneh\"\n",
    "    elif (k % 2) == 0 and k > 20 :\n",
    "        result = \"Tidak Aneh\"\n",
    "    else :\n",
    "        result = \"lainnya\"\n",
    "    return result\n",
    "num(int(input(\"Input number : \" )))"
   ]
  },
  {
   "cell_type": "markdown",
   "metadata": {
    "colab_type": "text",
    "id": "gf0D64xOsrLl"
   },
   "source": [
    "<h2>Soal 5: While Loop dan For Loop</h2>\n",
    "\n",
    "- Apa perbedaan while loop dan for loop?\n",
    "- Berikan contoh sederhana cara menggunakan while loop dan for loop"
   ]
  },
  {
   "cell_type": "code",
   "execution_count": 5,
   "metadata": {
    "colab": {},
    "colab_type": "code",
    "id": "l7KIgpjHsrLo"
   },
   "outputs": [
    {
     "name": "stdout",
     "output_type": "stream",
     "text": [
      "While ke 0\n",
      "While ke 1\n",
      "While ke 2\n",
      "While ke 3\n",
      "While ke 4\n",
      "While ke 5\n",
      "Loop ke 0\n",
      "Loop ke 1\n",
      "Loop ke 2\n",
      "Loop ke 3\n",
      "Loop ke 4\n",
      "Loop ke 5\n"
     ]
    }
   ],
   "source": [
    "#=====================Perbedaan While dan Loop========================================\n",
    "#    Perulangan for disebut counted loop (perulangan yang terhitung),\n",
    "#    sementara perulangan while disebut uncounted loop (perulangan yang tak terhitung).\n",
    "#    Perbedaannya adalah perulangan for biasanya digunakan untuk mengulangi kode yang sudah diketahui banyak perulangannya.\n",
    "#    Sementara while untuk perulangan yang memiliki syarat dan tidak tentu berapa banyak perulangannya.\n",
    "\n",
    "# Tulis Kode While\n",
    "i = 0\n",
    "while i < 6:\n",
    "  print(f\"While ke {i}\")\n",
    "  i += 1\n",
    "\n",
    "# Tulis Kode For Loop\n",
    "for x in range(6):\n",
    "  print(f\"Loop ke {x}\")\n"
   ]
  },
  {
   "cell_type": "markdown",
   "metadata": {
    "colab_type": "text",
    "id": "fZQpBGCgsrLz"
   },
   "source": [
    "<h2>Soal 6: While Loop</h2>\n",
    "    \n",
    "Buatlah sebuah code while loop sebagai berikut :\n",
    "- Buatlah suatu fungsi yang merima satu input nilai numeric\n",
    "- Dalam fungsi, Buat sebuah while-loop dengan melakukan comparasi terhadap inputan tersebut, dimana looping/iterasi terus berjalan apabila nilai inputan tidak sama dengan 0\n",
    "- Dalam setiap iterasi update nilai variable inputan itu, jika input lebih dari 0, maka kurangi variabel tersebut sebesar 1, selain itu tambahkan 1\n",
    "- print nilai variable input dalam setiap awal iterasi"
   ]
  },
  {
   "cell_type": "code",
   "execution_count": 6,
   "metadata": {
    "colab": {},
    "colab_type": "code",
    "id": "yOiqjrU2srL1"
   },
   "outputs": [
    {
     "name": "stdout",
     "output_type": "stream",
     "text": [
      "\n",
      " 10\n",
      "\n",
      " 9\n",
      "\n",
      " 8\n",
      "\n",
      " 7\n",
      "\n",
      " 6\n",
      "\n",
      " 5\n",
      "\n",
      " 4\n",
      "\n",
      " 3\n",
      "\n",
      " 2\n",
      "\n",
      " 1\n",
      " \n"
     ]
    }
   ],
   "source": [
    "a = 10\n",
    "\n",
    "def fungsi_while(a):\n",
    "    while (a > 0):\n",
    "        print(\"\\n\", a)\n",
    "        a -= 1\n",
    "        if a == 0:\n",
    "            break\n",
    "#    print(\"\\n\", n)\n",
    "    while a < 0:\n",
    "        print(\"\\n\", a)\n",
    "        a += 1\n",
    "        if a ==0:\n",
    "            break\n",
    "#    print(\"\\n\", n)\n",
    "    else :\n",
    "        print(\" \")\n",
    "#print('Loop ended.')\n",
    "fungsi_while(a)"
   ]
  },
  {
   "cell_type": "markdown",
   "metadata": {
    "colab_type": "text",
    "id": "lKzngRrlsrMD"
   },
   "source": [
    "Expected Output:\n",
    "\n",
    "10\n",
    "\n",
    "9\n",
    "\n",
    "8\n",
    "\n",
    "7\n",
    "\n",
    "6\n",
    "\n",
    "5\n",
    "\n",
    "4\n",
    "\n",
    "3\n",
    "\n",
    "2\n",
    "\n",
    "1"
   ]
  },
  {
   "cell_type": "markdown",
   "metadata": {
    "colab_type": "text",
    "id": "IWg3Z_zZsrMG"
   },
   "source": [
    "<h2>Soal 7: For Loop</h2>\n",
    "    \n",
    "Lengkapi kode untuk menghasilkan suatu output yang di harapkan:\n",
    "\n",
    "- Buatlah sebuah loop dengan mengiterasi sebuah objek list kemudian di kalikan dengan index dari list tersebut dan print hasilnya"
   ]
  },
  {
   "cell_type": "code",
   "execution_count": 8,
   "metadata": {
    "colab": {},
    "colab_type": "code",
    "id": "_Jl5i7WKsrMI"
   },
   "outputs": [
    {
     "name": "stdout",
     "output_type": "stream",
     "text": [
      "0\n",
      "16\n",
      "22\n",
      "30\n",
      "20\n"
     ]
    }
   ],
   "source": [
    "obj_list= [1, 16, 11, 10, 5]\n",
    "\n",
    "# lengkapi code di bawah\n",
    "for index, i in enumerate(obj_list):\n",
    "    print(index*i)\n"
   ]
  },
  {
   "cell_type": "markdown",
   "metadata": {
    "colab_type": "text",
    "id": "OGawROjnsrMU"
   },
   "source": [
    "Expected Output:\n",
    "\n",
    "0\n",
    "\n",
    "16\n",
    "\n",
    "22\n",
    "\n",
    "30\n",
    "\n",
    "20\n"
   ]
  }
 ],
 "metadata": {
  "colab": {
   "name": "Tugas Hari 4.ipynb",
   "provenance": []
  },
  "kernelspec": {
   "display_name": "Python 3",
   "language": "python",
   "name": "python3"
  },
  "language_info": {
   "codemirror_mode": {
    "name": "ipython",
    "version": 3
   },
   "file_extension": ".py",
   "mimetype": "text/x-python",
   "name": "python",
   "nbconvert_exporter": "python",
   "pygments_lexer": "ipython3",
   "version": "3.8.3"
  }
 },
 "nbformat": 4,
 "nbformat_minor": 1
}
